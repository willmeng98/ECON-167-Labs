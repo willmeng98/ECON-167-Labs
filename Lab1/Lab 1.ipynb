{
 "cells": [
  {
   "cell_type": "markdown",
   "metadata": {},
   "source": [
    "# Econometrics Lab 1"
   ]
  },
  {
   "cell_type": "markdown",
   "metadata": {},
   "source": [
    "## Part 1"
   ]
  },
  {
   "cell_type": "markdown",
   "metadata": {},
   "source": [
    "This code simulates the model y=b0+b1*X1+b2*X2+eps (DGP). X1, X2, and eps are normal\n",
    "random variables.\n",
    "\n",
    "The user specifies the mean and the variance of X1 and X2, the variance of eps, and the\n",
    "sample size.\n",
    "\n",
    "The Gauss-Markov Assumptions hold (i.e., E(eps)=0, Var(eps) is constant, the regressors\n",
    "and the error term are independent, the error term is not autocorrelated).\n",
    "\n",
    "The code computes OLS estimates of b0, b1, and b2, and compares them with the true\n",
    "values in the DGP."
   ]
  },
  {
   "cell_type": "code",
   "execution_count": 2,
   "metadata": {},
   "outputs": [],
   "source": [
    "import numpy as np\n",
    "from numpy.linalg import inv"
   ]
  },
  {
   "cell_type": "code",
   "execution_count": 3,
   "metadata": {},
   "outputs": [],
   "source": [
    "# Define the sample size, n, and the true values of b0, b1, and b2 in the DGP of y.\n",
    "N, K, b0, b1, b2 = 100,3,2,3,1.5\n"
   ]
  },
  {
   "cell_type": "code",
   "execution_count": 4,
   "metadata": {},
   "outputs": [],
   "source": [
    "# Define the standard deviation of the error term, errorsd;\n",
    "# The mean and the standard deviation of X1, X1 mean and X1sd respectively;\n",
    "# the mean and the standard deviation of X2, X2 mean and X2sd respectively.\n",
    "errorsd, X1mean, X1sd, X2mean, X2sd = 2, 0, 3, 0, 3"
   ]
  },
  {
   "cell_type": "code",
   "execution_count": 5,
   "metadata": {},
   "outputs": [],
   "source": [
    "# The code generates the random error term, the random regressors, and the dependent\n",
    "# variable through the DGP.\n",
    "X = np.ones((N,K))\n",
    "eps = np.random.normal(0,errorsd,N)\n",
    "X[:,1] = np.random.normal(X1mean, X1sd, N)\n",
    "X[:,2] = np.random.normal(X2mean,X2sd,N)"
   ]
  },
  {
   "cell_type": "code",
   "execution_count": 6,
   "metadata": {},
   "outputs": [],
   "source": [
    "Y = b0*X[:,0] + b1*X[:,1] + b2*X[:,2] + eps"
   ]
  },
  {
   "cell_type": "code",
   "execution_count": 7,
   "metadata": {},
   "outputs": [
    {
     "data": {
      "text/plain": [
       "array([2.43975191, 3.13319696, 1.47002129])"
      ]
     },
     "execution_count": 7,
     "metadata": {},
     "output_type": "execute_result"
    }
   ],
   "source": [
    "# The code calculates the OLS estimates of b0, b1, and b2; and the associated differences\n",
    "# from the true values in the DGP. \n",
    "OLS_EST = np.matmul(inv(np.matmul(X.transpose(),X)),np.matmul(X.transpose(),Y))\n",
    "OLS_EST"
   ]
  },
  {
   "cell_type": "code",
   "execution_count": 8,
   "metadata": {},
   "outputs": [
    {
     "data": {
      "text/plain": [
       "array([ 0.43975191,  0.13319696, -0.02997871])"
      ]
     },
     "execution_count": 8,
     "metadata": {},
     "output_type": "execute_result"
    }
   ],
   "source": [
    "Diff_EST = OLS_EST - np.array([b0, b1, b2])\n",
    "Diff_EST"
   ]
  },
  {
   "cell_type": "code",
   "execution_count": null,
   "metadata": {},
   "outputs": [],
   "source": []
  },
  {
   "cell_type": "markdown",
   "metadata": {},
   "source": [
    "## Part 2"
   ]
  },
  {
   "cell_type": "markdown",
   "metadata": {},
   "source": [
    "This code simulates the model y=b0+b1*X1+b2*X2+eps (DGP). X1, X2, and eps are normal\n",
    "random variables.\n",
    "\n",
    "The user specifies the mean and the variance of X1 and X2, the variance of eps, and the\n",
    "sample size.\n",
    "\n",
    "The Gauss-Markov Assumptions hold (i.e., E(eps)=0, Var(eps) is constant, the regressors\n",
    "and the error term are independent, the error term is not autocorrelated).\n",
    "\n",
    "The code computes the average OLS estimates of b0, b1, and b2, and estimates the bias of\n",
    "each estimator."
   ]
  },
  {
   "cell_type": "code",
   "execution_count": 9,
   "metadata": {},
   "outputs": [],
   "source": [
    "# Define the sample size, n, and the true values of b0, b1, and b2 in the DGP of y.\n",
    "N, K, b0, b1, b2 = 15,3,4,2,4.7"
   ]
  },
  {
   "cell_type": "code",
   "execution_count": 10,
   "metadata": {},
   "outputs": [],
   "source": [
    "# Define the number of replications to estimate the sampling distribution of the OLS\n",
    "# estimators.\n",
    "m = 10000"
   ]
  },
  {
   "cell_type": "code",
   "execution_count": 11,
   "metadata": {},
   "outputs": [],
   "source": [
    "# Define the standard deviation of the error term, errorsd;\n",
    "# the mean and the standard deviation of X1, X1 mean and X1sd respectively;\n",
    "# the mean and the standard deviation of X2, X2 mean and X2sd respectively.\n",
    "errorsd, X1mean, X1sd, X2mean, X2sd = 1, 0, 4, 0, 2\n"
   ]
  },
  {
   "cell_type": "code",
   "execution_count": 12,
   "metadata": {},
   "outputs": [],
   "source": [
    "# The code produces the sampling distribution of the estimators of b0, b1, and b2.\n",
    "b0_S = np.ones(m)\n",
    "b1_S = np.ones(m)\n",
    "b2_S = np.ones(m)"
   ]
  },
  {
   "cell_type": "code",
   "execution_count": 13,
   "metadata": {},
   "outputs": [],
   "source": [
    "for i in range(m):\n",
    "    # The code generates the random error term, the random regressors, and the dependent\n",
    "    X = np.ones((N,K))\n",
    "    eps = np.random.normal(0,errorsd,N)\n",
    "    X[:,1] = np.random.normal(X1mean, X1sd, N)\n",
    "    X[:,2] = np.random.normal(X2mean,X2sd,N)\n",
    "    Y = b0*X[:,0] + b1*X[:,1] + b2*X[:,2] + eps\n",
    "    \n",
    "    # The code calculates the OLS estimates of b0, b1, and b2. */\n",
    "    OLS_EST = np.matmul(inv(np.matmul(X.transpose(),X)),np.matmul(X.transpose(),Y))\n",
    "    b0_S[i] = OLS_EST[0]\n",
    "    b1_S[i] = OLS_EST[1]\n",
    "    b2_S[i] = OLS_EST[2]"
   ]
  },
  {
   "cell_type": "code",
   "execution_count": 14,
   "metadata": {},
   "outputs": [
    {
     "name": "stdout",
     "output_type": "stream",
     "text": [
      "mean OLS estimate [4.00227837 1.99894896 4.70188039]\n",
      "bias OLS estimate [ 0.00227837 -0.00105104  0.00188039]\n"
     ]
    }
   ],
   "source": [
    "# The code computes the mean of the sampling distributions of the OLS estimators of b0, b1,\n",
    "# and b2, and estimates the corresponding biases \n",
    "\n",
    "mean_b0_S = np.mean(b0_S)\n",
    "mean_b1_S = np.mean(b1_S)\n",
    "mean_b2_S = np.mean(b2_S)\n",
    "mean_OLS_EST = np.array([mean_b0_S,mean_b1_S,mean_b2_S])\n",
    "Bias_EST = mean_OLS_EST - np.array([b0,b1,b2])\n",
    "print(\"mean OLS estimate\", mean_OLS_EST)\n",
    "print(\"bias OLS estimate\", Bias_EST)"
   ]
  },
  {
   "cell_type": "code",
   "execution_count": null,
   "metadata": {},
   "outputs": [],
   "source": []
  },
  {
   "cell_type": "code",
   "execution_count": null,
   "metadata": {},
   "outputs": [],
   "source": []
  },
  {
   "cell_type": "code",
   "execution_count": null,
   "metadata": {},
   "outputs": [],
   "source": []
  },
  {
   "cell_type": "code",
   "execution_count": null,
   "metadata": {},
   "outputs": [],
   "source": []
  }
 ],
 "metadata": {
  "kernelspec": {
   "display_name": "Python 3",
   "language": "python",
   "name": "python3"
  },
  "language_info": {
   "codemirror_mode": {
    "name": "ipython",
    "version": 3
   },
   "file_extension": ".py",
   "mimetype": "text/x-python",
   "name": "python",
   "nbconvert_exporter": "python",
   "pygments_lexer": "ipython3",
   "version": "3.7.0"
  }
 },
 "nbformat": 4,
 "nbformat_minor": 2
}

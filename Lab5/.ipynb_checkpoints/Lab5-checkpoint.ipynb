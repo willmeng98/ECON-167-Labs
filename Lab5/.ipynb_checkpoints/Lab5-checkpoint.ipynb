{
 "cells": [
  {
   "cell_type": "code",
   "execution_count": 11,
   "metadata": {},
   "outputs": [],
   "source": [
    "import pandas as pd\n",
    "import numpy as np\n",
    "\n",
    "# For plotting\n",
    "import matplotlib.pyplot as plt\n",
    "\n",
    "# Stats tools\n",
    "from scipy.stats import kurtosis, skew # For skew and kurtosis\n",
    "import statsmodels.formula.api as sm # For OLS\n",
    "import statsmodels.stats.outliers_influence as oi # for RESET \n",
    "from statsmodels.stats.diagnostic import het_breuschpagan"
   ]
  },
  {
   "cell_type": "code",
   "execution_count": 4,
   "metadata": {},
   "outputs": [],
   "source": [
    "all_data = pd.read_csv('labour3.csv')"
   ]
  },
  {
   "cell_type": "code",
   "execution_count": 7,
   "metadata": {},
   "outputs": [
    {
     "data": {
      "text/html": [
       "<div>\n",
       "<style scoped>\n",
       "    .dataframe tbody tr th:only-of-type {\n",
       "        vertical-align: middle;\n",
       "    }\n",
       "\n",
       "    .dataframe tbody tr th {\n",
       "        vertical-align: top;\n",
       "    }\n",
       "\n",
       "    .dataframe thead th {\n",
       "        text-align: right;\n",
       "    }\n",
       "</style>\n",
       "<table border=\"1\" class=\"dataframe\">\n",
       "  <thead>\n",
       "    <tr style=\"text-align: right;\">\n",
       "      <th></th>\n",
       "      <th>capital</th>\n",
       "      <th>labor</th>\n",
       "      <th>output</th>\n",
       "      <th>wage</th>\n",
       "    </tr>\n",
       "  </thead>\n",
       "  <tbody>\n",
       "    <tr>\n",
       "      <th>count</th>\n",
       "      <td>569.000000</td>\n",
       "      <td>569.000000</td>\n",
       "      <td>569.000000</td>\n",
       "      <td>569.000000</td>\n",
       "    </tr>\n",
       "    <tr>\n",
       "      <th>mean</th>\n",
       "      <td>11.515447</td>\n",
       "      <td>201.080844</td>\n",
       "      <td>14.719225</td>\n",
       "      <td>38.632877</td>\n",
       "    </tr>\n",
       "    <tr>\n",
       "      <th>std</th>\n",
       "      <td>80.518848</td>\n",
       "      <td>611.995915</td>\n",
       "      <td>62.729485</td>\n",
       "      <td>14.443246</td>\n",
       "    </tr>\n",
       "    <tr>\n",
       "      <th>min</th>\n",
       "      <td>0.002231</td>\n",
       "      <td>1.000000</td>\n",
       "      <td>0.026276</td>\n",
       "      <td>11.733739</td>\n",
       "    </tr>\n",
       "    <tr>\n",
       "      <th>25%</th>\n",
       "      <td>0.983380</td>\n",
       "      <td>45.000000</td>\n",
       "      <td>2.666305</td>\n",
       "      <td>30.810818</td>\n",
       "    </tr>\n",
       "    <tr>\n",
       "      <th>50%</th>\n",
       "      <td>2.199280</td>\n",
       "      <td>86.000000</td>\n",
       "      <td>4.602573</td>\n",
       "      <td>35.982819</td>\n",
       "    </tr>\n",
       "    <tr>\n",
       "      <th>75%</th>\n",
       "      <td>6.214602</td>\n",
       "      <td>176.000000</td>\n",
       "      <td>9.742077</td>\n",
       "      <td>42.903339</td>\n",
       "    </tr>\n",
       "    <tr>\n",
       "      <th>max</th>\n",
       "      <td>1786.899200</td>\n",
       "      <td>10661.000000</td>\n",
       "      <td>1279.371700</td>\n",
       "      <td>188.425080</td>\n",
       "    </tr>\n",
       "  </tbody>\n",
       "</table>\n",
       "</div>"
      ],
      "text/plain": [
       "           capital         labor       output        wage\n",
       "count   569.000000    569.000000   569.000000  569.000000\n",
       "mean     11.515447    201.080844    14.719225   38.632877\n",
       "std      80.518848    611.995915    62.729485   14.443246\n",
       "min       0.002231      1.000000     0.026276   11.733739\n",
       "25%       0.983380     45.000000     2.666305   30.810818\n",
       "50%       2.199280     86.000000     4.602573   35.982819\n",
       "75%       6.214602    176.000000     9.742077   42.903339\n",
       "max    1786.899200  10661.000000  1279.371700  188.425080"
      ]
     },
     "execution_count": 7,
     "metadata": {},
     "output_type": "execute_result"
    }
   ],
   "source": [
    "all_data.describe()"
   ]
  },
  {
   "cell_type": "code",
   "execution_count": 8,
   "metadata": {},
   "outputs": [
    {
     "name": "stdout",
     "output_type": "stream",
     "text": [
      "                            OLS Regression Results                            \n",
      "==============================================================================\n",
      "Dep. Variable:                  labor   R-squared:                       0.935\n",
      "Model:                            OLS   Adj. R-squared:                  0.935\n",
      "Method:                 Least Squares   F-statistic:                     2716.\n",
      "Date:                Wed, 12 Dec 2018   Prob (F-statistic):               0.00\n",
      "Time:                        15:02:28   Log-Likelihood:                -3679.7\n",
      "No. Observations:                 569   AIC:                             7367.\n",
      "Df Residuals:                     565   BIC:                             7385.\n",
      "Df Model:                           3                                         \n",
      "Covariance Type:            nonrobust                                         \n",
      "==============================================================================\n",
      "                 coef    std err          t      P>|t|      [0.025      0.975]\n",
      "------------------------------------------------------------------------------\n",
      "Intercept    287.7186     19.642     14.648      0.000     249.139     326.298\n",
      "wage          -6.7419      0.501    -13.446      0.000      -7.727      -5.757\n",
      "capital       -4.5905      0.269    -17.067      0.000      -5.119      -4.062\n",
      "output        15.4005      0.356     43.304      0.000      14.702      16.099\n",
      "==============================================================================\n",
      "Omnibus:                      258.131   Durbin-Watson:                   2.017\n",
      "Prob(Omnibus):                  0.000   Jarque-Bera (JB):            27233.655\n",
      "Skew:                           0.988   Prob(JB):                         0.00\n",
      "Kurtosis:                      36.835   Cond. No.                         310.\n",
      "==============================================================================\n",
      "\n",
      "Warnings:\n",
      "[1] Standard Errors assume that the covariance matrix of the errors is correctly specified.\n"
     ]
    }
   ],
   "source": [
    "first_model = sm.ols(formula=\"labor ~ wage + capital + output\", data=all_data).fit()\n",
    "print(first_model.summary())"
   ]
  },
  {
   "cell_type": "code",
   "execution_count": 10,
   "metadata": {},
   "outputs": [
    {
     "data": {
      "image/png": "[encoded data removed]",
      "text/plain": [
       "<Figure size 432x180 with 1 Axes>"
      ]
     },
     "metadata": {
      "needs_background": "light"
     },
     "output_type": "display_data"
    }
   ],
   "source": [
    "pred_val = first_model.fittedvalues.copy()\n",
    "true_val = all_data['labor'].values.copy()\n",
    "residual = true_val - pred_val\n",
    "fig, ax = plt.subplots(figsize=(6,2.5))\n",
    "_ = ax.scatter(pred_val, residual)"
   ]
  },
  {
   "cell_type": "code",
   "execution_count": 24,
   "metadata": {},
   "outputs": [
    {
     "data": {
      "image/png": "[encoded data removed]",
      "text/plain": [
       "<Figure size 576x432 with 1 Axes>"
      ]
     },
     "metadata": {
      "needs_background": "light"
     },
     "output_type": "display_data"
    }
   ],
   "source": [
    "from statsmodels.graphics.regressionplots import plot_leverage_resid2\n",
    "fig, ax = plt.subplots(figsize=(8,6))\n",
    "fig = plot_leverage_resid2(first_model, ax = ax)\n",
    "# Huh? What am I looking at?"
   ]
  },
  {
   "cell_type": "markdown",
   "metadata": {},
   "source": [
    "## My guy Pagan"
   ]
  },
  {
   "cell_type": "code",
   "execution_count": 22,
   "metadata": {},
   "outputs": [
    {
     "data": {
      "text/plain": [
       "[('Lagrange multiplier statistic', 331.06527670444996),\n",
       " ('p-value', 1.876252929874804e-71),\n",
       " ('f-value', 262.0492975933687),\n",
       " ('f p-value', 1.554571881207912e-106)]"
      ]
     },
     "execution_count": 22,
     "metadata": {},
     "output_type": "execute_result"
    }
   ],
   "source": [
    "import statsmodels.stats.api as sms\n",
    "from statsmodels.compat import lzip\n",
    "\n",
    "\n",
    "name = ['Lagrange multiplier statistic', 'p-value', \n",
    "        'f-value', 'f p-value']\n",
    "test = sms.het_breuschpagan(first_model.resid, first_model.model.exog)\n",
    "lzip(name, test)\n"
   ]
  },
  {
   "cell_type": "code",
   "execution_count": 53,
   "metadata": {},
   "outputs": [],
   "source": [
    "all_data['residuals'] = residual"
   ]
  },
  {
   "cell_type": "code",
   "execution_count": 54,
   "metadata": {},
   "outputs": [
    {
     "name": "stdout",
     "output_type": "stream",
     "text": [
      "                              OLS Regression Results                              \n",
      "==================================================================================\n",
      "Dep. Variable:     np.power(residuals, 2)   R-squared:                       0.582\n",
      "Model:                                OLS   Adj. R-squared:                  0.580\n",
      "Method:                     Least Squares   F-statistic:                     262.0\n",
      "Date:                    Wed, 12 Dec 2018   Prob (F-statistic):          1.55e-106\n",
      "Time:                            15:35:30   Log-Likelihood:                -7322.1\n",
      "No. Observations:                     569   AIC:                         1.465e+04\n",
      "Df Residuals:                         565   BIC:                         1.467e+04\n",
      "Df Model:                               3                                         \n",
      "Covariance Type:                nonrobust                                         \n",
      "==============================================================================\n",
      "                 coef    std err          t      P>|t|      [0.025      0.975]\n",
      "------------------------------------------------------------------------------\n",
      "Intercept  -2.272e+04   1.18e+04     -1.919      0.055    -4.6e+04     534.064\n",
      "wage         228.8570    302.217      0.757      0.449    -364.749     822.463\n",
      "capital    -3543.5094    162.119    -21.858      0.000   -3861.938   -3225.081\n",
      "output      5362.2075    214.354     25.016      0.000    4941.179    5783.236\n",
      "==============================================================================\n",
      "Omnibus:                      747.596   Durbin-Watson:                   1.988\n",
      "Prob(Omnibus):                  0.000   Jarque-Bera (JB):           141391.203\n",
      "Skew:                           6.495   Prob(JB):                         0.00\n",
      "Kurtosis:                      79.125   Cond. No.                         310.\n",
      "==============================================================================\n",
      "\n",
      "Warnings:\n",
      "[1] Standard Errors assume that the covariance matrix of the errors is correctly specified.\n"
     ]
    }
   ],
   "source": [
    "second_model = sm.ols(formula=\"np.power(residuals,2) ~ wage + capital + output\", data=all_data).fit()\n",
    "print(second_model.summary())"
   ]
  },
  {
   "cell_type": "code",
   "execution_count": 55,
   "metadata": {},
   "outputs": [
    {
     "data": {
      "image/png": "[encoded data removed]",
      "text/plain": [
       "<Figure size 432x180 with 1 Axes>"
      ]
     },
     "metadata": {
      "needs_background": "light"
     },
     "output_type": "display_data"
    }
   ],
   "source": [
    "pred_val = second_model.fittedvalues.copy()\n",
    "true_val = np.power(all_data['residuals'].values.copy(),2)\n",
    "residual_residual = true_val - pred_val\n",
    "fig, ax = plt.subplots(figsize=(6,2.5))\n",
    "_ = ax.scatter(pred_val, residual_residual)\n"
   ]
  },
  {
   "cell_type": "code",
   "execution_count": null,
   "metadata": {},
   "outputs": [],
   "source": []
  },
  {
   "cell_type": "code",
   "execution_count": null,
   "metadata": {},
   "outputs": [],
   "source": []
  },
  {
   "cell_type": "code",
   "execution_count": 56,
   "metadata": {},
   "outputs": [
    {
     "name": "stdout",
     "output_type": "stream",
     "text": [
      "                            OLS Regression Results                            \n",
      "==============================================================================\n",
      "Dep. Variable:          np.log(labor)   R-squared:                       0.843\n",
      "Model:                            OLS   Adj. R-squared:                  0.842\n",
      "Method:                 Least Squares   F-statistic:                     1011.\n",
      "Date:                Wed, 12 Dec 2018   Prob (F-statistic):          1.28e-226\n",
      "Time:                        15:35:30   Log-Likelihood:                -370.08\n",
      "No. Observations:                 569   AIC:                             748.2\n",
      "Df Residuals:                     565   BIC:                             765.5\n",
      "Df Model:                           3                                         \n",
      "Covariance Type:            nonrobust                                         \n",
      "===================================================================================\n",
      "                      coef    std err          t      P>|t|      [0.025      0.975]\n",
      "-----------------------------------------------------------------------------------\n",
      "Intercept           6.1773      0.246     25.089      0.000       5.694       6.661\n",
      "np.log(wage)       -0.9278      0.071    -12.993      0.000      -1.068      -0.788\n",
      "np.log(capital)    -0.0037      0.019     -0.197      0.844      -0.041       0.033\n",
      "np.log(output)      0.9900      0.026     37.487      0.000       0.938       1.042\n",
      "==============================================================================\n",
      "Omnibus:                      350.686   Durbin-Watson:                   2.028\n",
      "Prob(Omnibus):                  0.000   Jarque-Bera (JB):             5976.599\n",
      "Skew:                          -2.386   Prob(JB):                         0.00\n",
      "Kurtosis:                      18.143   Cond. No.                         56.4\n",
      "==============================================================================\n",
      "\n",
      "Warnings:\n",
      "[1] Standard Errors assume that the covariance matrix of the errors is correctly specified.\n"
     ]
    }
   ],
   "source": [
    "third_model = sm.ols(formula=\"np.log(labor) ~ np.log(wage) + np.log(capital) + np.log(output)\", data=all_data).fit()\n",
    "print(third_model.summary())"
   ]
  },
  {
   "cell_type": "code",
   "execution_count": 57,
   "metadata": {},
   "outputs": [
    {
     "data": {
      "image/png": "[encoded data removed]",
      "text/plain": [
       "<Figure size 432x180 with 1 Axes>"
      ]
     },
     "metadata": {
      "needs_background": "light"
     },
     "output_type": "display_data"
    }
   ],
   "source": [
    "pred_val = third_model.fittedvalues.copy()\n",
    "true_val = np.log(all_data['labor'].values.copy())\n",
    "residual2 = true_val - pred_val\n",
    "fig, ax = plt.subplots(figsize=(6,2.5))\n",
    "_ = ax.scatter(pred_val, residual2)"
   ]
  },
  {
   "cell_type": "code",
   "execution_count": null,
   "metadata": {},
   "outputs": [],
   "source": []
  },
  {
   "cell_type": "code",
   "execution_count": null,
   "metadata": {},
   "outputs": [],
   "source": []
  },
  {
   "cell_type": "markdown",
   "metadata": {},
   "source": [
    "## White Test"
   ]
  },
  {
   "cell_type": "code",
   "execution_count": 58,
   "metadata": {},
   "outputs": [],
   "source": [
    "all_data['residual2'] = residual2"
   ]
  },
  {
   "cell_type": "code",
   "execution_count": 59,
   "metadata": {},
   "outputs": [
    {
     "name": "stdout",
     "output_type": "stream",
     "text": [
      "                              OLS Regression Results                              \n",
      "==================================================================================\n",
      "Dep. Variable:     np.power(residual2, 2)   R-squared:                       0.103\n",
      "Model:                                OLS   Adj. R-squared:                  0.088\n",
      "Method:                     Least Squares   F-statistic:                     7.124\n",
      "Date:                    Wed, 12 Dec 2018   Prob (F-statistic):           8.33e-10\n",
      "Time:                            15:35:32   Log-Likelihood:                -710.32\n",
      "No. Observations:                     569   AIC:                             1441.\n",
      "Df Residuals:                         559   BIC:                             1484.\n",
      "Df Model:                               9                                         \n",
      "Covariance Type:                nonrobust                                         \n",
      "==================================================================================================\n",
      "                                     coef    std err          t      P>|t|      [0.025      0.975]\n",
      "--------------------------------------------------------------------------------------------------\n",
      "Intercept                          2.5446      3.003      0.847      0.397      -3.354       8.443\n",
      "np.log(wage)                      -1.2990      1.753     -0.741      0.459      -4.742       2.144\n",
      "np.log(capital)                    1.1421      0.376      3.039      0.002       0.404       1.880\n",
      "np.log(output)                    -0.9037      0.560     -1.614      0.107      -2.003       0.196\n",
      "np.power(np.log(wage), 2)          0.1927      0.259      0.744      0.457      -0.316       0.701\n",
      "np.power(np.log(output), 2)        0.1382      0.036      3.877      0.000       0.068       0.208\n",
      "np.power(np.log(capital), 2)       0.0895      0.014      6.401      0.000       0.062       0.117\n",
      "np.log(wage):np.log(capital)      -0.2518      0.105     -2.399      0.017      -0.458      -0.046\n",
      "np.log(wage):np.log(output)        0.1380      0.163      0.849      0.396      -0.181       0.457\n",
      "np.log(capital):np.log(output)    -0.1916      0.037     -5.197      0.000      -0.264      -0.119\n",
      "==============================================================================\n",
      "Omnibus:                     1047.247   Durbin-Watson:                   1.987\n",
      "Prob(Omnibus):                  0.000   Jarque-Bera (JB):           930307.689\n",
      "Skew:                          12.025   Prob(JB):                         0.00\n",
      "Kurtosis:                     199.625   Cond. No.                     1.78e+03\n",
      "==============================================================================\n",
      "\n",
      "Warnings:\n",
      "[1] Standard Errors assume that the covariance matrix of the errors is correctly specified.\n",
      "[2] The condition number is large, 1.78e+03. This might indicate that there are\n",
      "strong multicollinearity or other numerical problems.\n"
     ]
    }
   ],
   "source": [
    "fourth_model = sm.ols(formula=\"np.power(residual2,2) ~ np.log(wage) + np.log(capital) + np.log(output) + np.power(np.log(wage),2) + np.power(np.log(output),2) + np.power(np.log(capital),2) + np.log(wage) * np.log(capital) + np.log(wage) * np.log(output) + np.log(capital) * np.log(output)\", data=all_data).fit()\n",
    "print(fourth_model.summary())\n",
    "\n",
    "\n"
   ]
  },
  {
   "cell_type": "code",
   "execution_count": 60,
   "metadata": {},
   "outputs": [
    {
     "data": {
      "image/png": "[encoded data removed]",
      "text/plain": [
       "<Figure size 432x180 with 1 Axes>"
      ]
     },
     "metadata": {
      "needs_background": "light"
     },
     "output_type": "display_data"
    }
   ],
   "source": [
    "pred_val = third_model.fittedvalues.copy()\n",
    "true_val = np.power(all_data['residual2'].values.copy(), 2)\n",
    "residual2_residual = true_val - pred_val\n",
    "fig, ax = plt.subplots(figsize=(6,2.5))\n",
    "_ = ax.scatter(pred_val, residual2_residual)"
   ]
  },
  {
   "cell_type": "code",
   "execution_count": 61,
   "metadata": {},
   "outputs": [],
   "source": [
    "all_data['white_se'] = residual2_residual"
   ]
  },
  {
   "cell_type": "code",
   "execution_count": 69,
   "metadata": {},
   "outputs": [
    {
     "name": "stdout",
     "output_type": "stream",
     "text": [
      "                            OLS Regression Results                            \n",
      "==============================================================================\n",
      "Dep. Variable:          np.log(labor)   R-squared:                       0.843\n",
      "Model:                            OLS   Adj. R-squared:                  0.842\n",
      "Method:                 Least Squares   F-statistic:                     513.1\n",
      "Date:                Wed, 12 Dec 2018   Prob (F-statistic):          7.56e-161\n",
      "Time:                        15:45:05   Log-Likelihood:                -370.08\n",
      "No. Observations:                 569   AIC:                             748.2\n",
      "Df Residuals:                     565   BIC:                             765.5\n",
      "Df Model:                           3                                         \n",
      "Covariance Type:                  HC3                                         \n",
      "===================================================================================\n",
      "                      coef    std err          z      P>|z|      [0.025      0.975]\n",
      "-----------------------------------------------------------------------------------\n",
      "Intercept           6.1773      0.302     20.470      0.000       5.586       6.769\n",
      "np.log(wage)       -0.9278      0.089    -10.443      0.000      -1.102      -0.754\n",
      "np.log(capital)    -0.0037      0.039     -0.095      0.925      -0.080       0.073\n",
      "np.log(output)      0.9900      0.048     20.501      0.000       0.895       1.085\n",
      "==============================================================================\n",
      "Omnibus:                      350.686   Durbin-Watson:                   2.028\n",
      "Prob(Omnibus):                  0.000   Jarque-Bera (JB):             5976.599\n",
      "Skew:                          -2.386   Prob(JB):                         0.00\n",
      "Kurtosis:                      18.143   Cond. No.                         56.4\n",
      "==============================================================================\n",
      "\n",
      "Warnings:\n",
      "[1] Standard Errors are heteroscedasticity robust (HC3)\n"
     ]
    }
   ],
   "source": [
    "fifth_model = sm.ols(formula=\"np.log(labor) ~ np.log(wage) + np.log(capital) + np.log(output)\", data=all_data)\n",
    "results5 = fifth_model.fit(cov_type='HC3') # VERY CLOSE TO THE STATA ROBUST SEs\n",
    "#results5 = fifth_model.fit()\n",
    "#print(results5.bse)\n",
    "\n",
    "print(results5.summary())"
   ]
  },
  {
   "cell_type": "code",
   "execution_count": null,
   "metadata": {},
   "outputs": [],
   "source": []
  },
  {
   "cell_type": "code",
   "execution_count": null,
   "metadata": {},
   "outputs": [],
   "source": []
  },
  {
   "cell_type": "code",
   "execution_count": 70,
   "metadata": {},
   "outputs": [
    {
     "name": "stdout",
     "output_type": "stream",
     "text": [
      "                                  OLS Regression Results                                  \n",
      "==========================================================================================\n",
      "Dep. Variable:     np.log(np.power(residual2, 2))   R-squared:                       0.034\n",
      "Model:                                        OLS   Adj. R-squared:                  0.024\n",
      "Method:                             Least Squares   F-statistic:                     3.301\n",
      "Date:                            Wed, 12 Dec 2018   Prob (F-statistic):            0.00335\n",
      "Time:                                    15:48:48   Log-Likelihood:                -1261.6\n",
      "No. Observations:                             569   AIC:                             2537.\n",
      "Df Residuals:                                 562   BIC:                             2568.\n",
      "Df Model:                                       6                                         \n",
      "Covariance Type:                        nonrobust                                         \n",
      "================================================================================================\n",
      "                                   coef    std err          t      P>|t|      [0.025      0.975]\n",
      "------------------------------------------------------------------------------------------------\n",
      "Intercept                        5.8197      6.530      0.891      0.373      -7.007      18.646\n",
      "np.log(wage)                    -4.9423      3.561     -1.388      0.166     -11.937       2.052\n",
      "np.log(capital)                 -0.3316      0.090     -3.672      0.000      -0.509      -0.154\n",
      "np.log(output)                   0.1876      0.189      0.994      0.321      -0.183       0.559\n",
      "np.power(np.log(wage), 2)        0.6534      0.486      1.344      0.180      -0.302       1.609\n",
      "np.power(np.log(output), 2)      0.0014      0.047      0.029      0.977      -0.091       0.094\n",
      "np.power(np.log(capital), 2)     0.0307      0.027      1.145      0.253      -0.022       0.083\n",
      "==============================================================================\n",
      "Omnibus:                      165.405   Durbin-Watson:                   2.035\n",
      "Prob(Omnibus):                  0.000   Jarque-Bera (JB):              537.367\n",
      "Skew:                          -1.357   Prob(JB):                    2.05e-117\n",
      "Kurtosis:                       6.911   Cond. No.                     1.22e+03\n",
      "==============================================================================\n",
      "\n",
      "Warnings:\n",
      "[1] Standard Errors assume that the covariance matrix of the errors is correctly specified.\n",
      "[2] The condition number is large, 1.22e+03. This might indicate that there are\n",
      "strong multicollinearity or other numerical problems.\n"
     ]
    }
   ],
   "source": [
    "sixth_model = sm.ols(formula=\"np.log(np.power(residual2,2)) ~ np.log(wage) + np.log(capital) + np.log(output) + np.power(np.log(wage),2) + np.power(np.log(output),2) + np.power(np.log(capital),2)\", data=all_data).fit()\n",
    "print(sixth_model.summary())\n",
    "\n"
   ]
  },
  {
   "cell_type": "code",
   "execution_count": 81,
   "metadata": {},
   "outputs": [],
   "source": [
    "h2_hat = np.exp(5.8197 - 4.9423 * np.log(all_data['wage']) + 0.1876 * np.log(all_data['output']) - 0.3316 * np.log(all_data['capital']) + 0.6534 * np.power(np.log(all_data['wage']),2) + 0.0014 * np.power(np.log(all_data['output']), 2)  + 0.0307 * np.power(np.log(all_data['capital']),2))\n",
    "all_data['h_hat'] = np.power(h2_hat,0.5)\n",
    "\n",
    "all_data['llaborh'] = np.log(all_data['labor'])/all_data['h_hat']\n",
    "all_data['lwageh'] = np.log(all_data['wage'])/all_data['h_hat']\n",
    "all_data['loutputh'] = np.log(all_data['output'])/all_data['h_hat']\n",
    "all_data['lcapitalh'] = np.log(all_data['capital'])/all_data['h_hat']\n",
    "all_data['co'] = 1/all_data['h_hat']\n",
    "\n",
    "\n"
   ]
  },
  {
   "cell_type": "code",
   "execution_count": 82,
   "metadata": {},
   "outputs": [
    {
     "name": "stdout",
     "output_type": "stream",
     "text": [
      "                            OLS Regression Results                            \n",
      "==============================================================================\n",
      "Dep. Variable:                llaborh   R-squared:                       0.991\n",
      "Model:                            OLS   Adj. R-squared:                  0.991\n",
      "Method:                 Least Squares   F-statistic:                 1.506e+04\n",
      "Date:                Wed, 12 Dec 2018   Prob (F-statistic):               0.00\n",
      "Time:                        16:00:30   Log-Likelihood:                -1313.1\n",
      "No. Observations:                 569   AIC:                             2634.\n",
      "Df Residuals:                     565   BIC:                             2652.\n",
      "Df Model:                           4                                         \n",
      "Covariance Type:            nonrobust                                         \n",
      "==============================================================================\n",
      "                 coef    std err          t      P>|t|      [0.025      0.975]\n",
      "------------------------------------------------------------------------------\n",
      "lwageh        -0.9129      0.078    -11.690      0.000      -1.066      -0.760\n",
      "loutputh       1.0443      0.027     38.252      0.000       0.991       1.098\n",
      "lcapitalh     -0.0658      0.022     -3.020      0.003      -0.109      -0.023\n",
      "co             6.0980      0.271     22.467      0.000       5.565       6.631\n",
      "==============================================================================\n",
      "Omnibus:                      448.877   Durbin-Watson:                   1.981\n",
      "Prob(Omnibus):                  0.000   Jarque-Bera (JB):            23376.094\n",
      "Skew:                          -2.965   Prob(JB):                         0.00\n",
      "Kurtosis:                      33.835   Cond. No.                         65.5\n",
      "==============================================================================\n",
      "\n",
      "Warnings:\n",
      "[1] Standard Errors assume that the covariance matrix of the errors is correctly specified.\n"
     ]
    }
   ],
   "source": [
    "seventh_model = sm.ols(formula=\"llaborh ~ lwageh + loutputh + lcapitalh + co -1\", data=all_data).fit()\n",
    "print(seventh_model.summary())\n",
    "\n"
   ]
  },
  {
   "cell_type": "code",
   "execution_count": 83,
   "metadata": {},
   "outputs": [
    {
     "data": {
      "image/png": "[encoded data removed]",
      "text/plain": [
       "<Figure size 432x180 with 1 Axes>"
      ]
     },
     "metadata": {
      "needs_background": "light"
     },
     "output_type": "display_data"
    }
   ],
   "source": [
    "pred_val = seventh_model.fittedvalues.copy()\n",
    "true_val = np.power(all_data['llaborh'].values.copy(), 2)\n",
    "final_residual = true_val - pred_val\n",
    "fig, ax = plt.subplots(figsize=(6,2.5))\n",
    "_ = ax.scatter(pred_val, final_residual)"
   ]
  },
  {
   "cell_type": "code",
   "execution_count": null,
   "metadata": {},
   "outputs": [],
   "source": []
  },
  {
   "cell_type": "code",
   "execution_count": null,
   "metadata": {},
   "outputs": [],
   "source": []
  },
  {
   "cell_type": "code",
   "execution_count": null,
   "metadata": {},
   "outputs": [],
   "source": []
  },
  {
   "cell_type": "code",
   "execution_count": null,
   "metadata": {},
   "outputs": [],
   "source": []
  },
  {
   "cell_type": "code",
   "execution_count": null,
   "metadata": {},
   "outputs": [],
   "source": []
  }
 ],
 "metadata": {
  "kernelspec": {
   "display_name": "Python 3",
   "language": "python",
   "name": "python3"
  },
  "language_info": {
   "codemirror_mode": {
    "name": "ipython",
    "version": 3
   },
   "file_extension": ".py",
   "mimetype": "text/x-python",
   "name": "python",
   "nbconvert_exporter": "python",
   "pygments_lexer": "ipython3",
   "version": "3.7.0"
  }
 },
 "nbformat": 4,
 "nbformat_minor": 2
}
